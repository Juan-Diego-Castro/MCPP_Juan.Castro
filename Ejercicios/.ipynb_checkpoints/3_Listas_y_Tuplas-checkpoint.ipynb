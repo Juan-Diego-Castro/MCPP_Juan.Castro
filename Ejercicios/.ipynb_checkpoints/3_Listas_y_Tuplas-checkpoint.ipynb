{
 "cells": [
  {
   "cell_type": "markdown",
   "metadata": {},
   "source": [
    "1. Haga un algoritmo que, utlizando listas, dibuje un rombo sin espacios entre los astericos y que funcione solo con números impares (si el usuario introduce un número par, le indique que debe ser impar y que lo vuelva a intentar)."
   ]
  },
  {
   "cell_type": "code",
   "execution_count": 1,
   "metadata": {
    "scrolled": true
   },
   "outputs": [
    {
     "name": "stdout",
     "output_type": "stream",
     "text": [
      "Digite un número que sea impar: 6\n",
      "Por favor que sea un número impar!!: 7\n",
      "     *\n",
      "    ***\n",
      "   *****\n",
      "  *******\n",
      "   *****\n",
      "    ***\n",
      "     *\n"
     ]
    }
   ],
   "source": []
  },
  {
   "cell_type": "markdown",
   "metadata": {},
   "source": [
    "2. Escriba un programa que permita crear una lista de palabras y que, a continuación, pida una palabra y diga cuántas veces aparece esa palabra en la lista."
   ]
  },
  {
   "cell_type": "code",
   "execution_count": 20,
   "metadata": {},
   "outputs": [
    {
     "name": "stdout",
     "output_type": "stream",
     "text": [
      "Dígame cuántas palabras tiene la lista: 5\n",
      "Dígame la palabra número 1: hola\n",
      "Dígame la palabra número 2: hola\n",
      "Dígame la palabra número 3: hol\n",
      "Dígame la palabra número 4: al\n",
      "Dígame la palabra número 5: ola\n",
      "Su lista de palabras es: ['hola', 'hola', 'hol', 'al', 'ola']\n",
      "Digame una palabra: hola\n",
      "la palabra hola aparece 2 veces en la lista\n"
     ]
    }
   ],
   "source": [
    "x=int(input(\"Dígame cuántas palabras tiene la lista: \"))\n",
    "lista=[]\n",
    "for i in range(x):\n",
    "    palabra=input(\"Dígame la palabra número \"+ str(i+1)+ \": \")\n",
    "    lista.append(palabra)\n",
    "print(\"Su lista de palabras es: \"+ str(lista))\n",
    "buscar=input(\"Digame una palabra: \")\n",
    "y=lista.count(buscar)\n",
    "if y==0:\n",
    "    print(f\"la palabra {buscar} no aparece en la lista\")\n",
    "elif y==1:\n",
    "    print(f\"la palabra {buscar} aparece {y} vez en al lista\")\n",
    "else:\n",
    "    print (f\"la palabra {buscar} aparece {y} veces en la lista\")"
   ]
  },
  {
   "cell_type": "code",
   "execution_count": 4,
   "metadata": {},
   "outputs": [
    {
     "name": "stdout",
     "output_type": "stream",
     "text": [
      "Dígame cuántas palabras tiene la lista: 5\n",
      "Dígame la palabra número 1: Avión\n",
      "Dígame la palabra número 2: Carro\n",
      "Dígame la palabra número 3: Tren\n",
      "Dígame la palabra número 4: Tren\n",
      "Dígame la palabra número 5: Barco\n",
      "Su lista de palabras es:  ['Avión', 'Carro', 'Tren', 'Tren', 'Barco']\n",
      "Digame una palabra: Tren\n",
      "La palabra:  Tren aparece 2 veces en su lista\n"
     ]
    }
   ],
   "source": []
  },
  {
   "cell_type": "markdown",
   "metadata": {},
   "source": [
    "3. Escribir un programa que almacene en una lista los siguientes precios, 50, 75, 46, 22, 80, 65, 8, y muestre por pantalla el menor y el mayor de los precios."
   ]
  },
  {
   "cell_type": "code",
   "execution_count": 23,
   "metadata": {},
   "outputs": [
    {
     "name": "stdout",
     "output_type": "stream",
     "text": [
      "El máximo es 80\n",
      "El mímimo es 8\n"
     ]
    }
   ],
   "source": [
    "prices = [50, 75, 46, 22, 80, 65, 8]\n",
    "print(f\"El máximo es {max(prices)}\")\n",
    "print(f\"El mímimo es {min(prices)}\")"
   ]
  },
  {
   "cell_type": "code",
   "execution_count": 31,
   "metadata": {},
   "outputs": [
    {
     "name": "stdout",
     "output_type": "stream",
     "text": [
      "El mínimo es 8\n",
      "El máximo es 80\n"
     ]
    }
   ],
   "source": [
    "prices = [50, 75, 46, 22, 80, 65, 8]\n",
    "prices.sort()\n",
    "prices\n",
    "print(f\"El mínimo es {prices[0]}\")\n",
    "print(f\"El máximo es {prices[-1]}\")"
   ]
  },
  {
   "cell_type": "code",
   "execution_count": 5,
   "metadata": {},
   "outputs": [
    {
     "name": "stdout",
     "output_type": "stream",
     "text": [
      "El mínimo es 8\n",
      "El máximo es 80\n"
     ]
    }
   ],
   "source": [
    "prices = [50, 75, 46, 22, 80, 65, 8]"
   ]
  },
  {
   "cell_type": "markdown",
   "metadata": {},
   "source": [
    "4. Escribir un programa que pregunte por una muestra de números, separados por comas, los guarde en una lista y muestre por pantalla su media y desviación típica."
   ]
  },
  {
   "cell_type": "code",
   "execution_count": 42,
   "metadata": {},
   "outputs": [
    {
     "name": "stdout",
     "output_type": "stream",
     "text": [
      "Introduce una muestra de números separados por comas: 1,2,3,4,5\n"
     ]
    },
    {
     "ename": "TypeError",
     "evalue": "unsupported operand type(s) for +: 'int' and 'str'",
     "output_type": "error",
     "traceback": [
      "\u001b[1;31m---------------------------------------------------------------------------\u001b[0m",
      "\u001b[1;31mTypeError\u001b[0m                                 Traceback (most recent call last)",
      "\u001b[1;32m<ipython-input-42-b058f4e2b695>\u001b[0m in \u001b[0;36m<module>\u001b[1;34m\u001b[0m\n\u001b[0;32m      4\u001b[0m \u001b[0mlista\u001b[0m\u001b[1;33m\u001b[0m\u001b[1;33m\u001b[0m\u001b[0m\n\u001b[0;32m      5\u001b[0m \u001b[0mn\u001b[0m\u001b[1;33m=\u001b[0m\u001b[0mlen\u001b[0m\u001b[1;33m(\u001b[0m\u001b[0mlista\u001b[0m\u001b[1;33m)\u001b[0m\u001b[1;33m\u001b[0m\u001b[1;33m\u001b[0m\u001b[0m\n\u001b[1;32m----> 6\u001b[1;33m \u001b[0mtotal\u001b[0m\u001b[1;33m=\u001b[0m\u001b[0msum\u001b[0m\u001b[1;33m(\u001b[0m\u001b[0mlista\u001b[0m\u001b[1;33m)\u001b[0m\u001b[1;33m\u001b[0m\u001b[1;33m\u001b[0m\u001b[0m\n\u001b[0m\u001b[0;32m      7\u001b[0m \u001b[0mprint\u001b[0m\u001b[1;33m(\u001b[0m\u001b[1;34mf\"La media es {n/total}\"\u001b[0m\u001b[1;33m)\u001b[0m\u001b[1;33m\u001b[0m\u001b[1;33m\u001b[0m\u001b[0m\n",
      "\u001b[1;31mTypeError\u001b[0m: unsupported operand type(s) for +: 'int' and 'str'"
     ]
    }
   ],
   "source": [
    "lista=[]\n",
    "numeros=input(\"Introduce una muestra de números separados por comas: \")\n",
    "lista=numeros.split(\",\")\n",
    "lista\n",
    "n=len(lista)\n",
    "total=sum(lista)\n",
    "print(f\"La media es {n/total}\")\n"
   ]
  },
  {
   "cell_type": "code",
   "execution_count": null,
   "metadata": {},
   "outputs": [],
   "source": []
  }
 ],
 "metadata": {
  "kernelspec": {
   "display_name": "Python 3",
   "language": "python",
   "name": "python3"
  },
  "language_info": {
   "codemirror_mode": {
    "name": "ipython",
    "version": 3
   },
   "file_extension": ".py",
   "mimetype": "text/x-python",
   "name": "python",
   "nbconvert_exporter": "python",
   "pygments_lexer": "ipython3",
   "version": "3.8.5"
  }
 },
 "nbformat": 4,
 "nbformat_minor": 2
}
