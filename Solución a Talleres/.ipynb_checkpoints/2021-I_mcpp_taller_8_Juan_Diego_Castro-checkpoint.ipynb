{
 "cells": [
  {
   "cell_type": "markdown",
   "metadata": {},
   "source": [
    "# Taller 8\n",
    "Métodos Computacionales para Políticas Públicas - URosario\n",
    "\n",
    "**Entrega: viernes 23-abr-2021 11:59 PM**"
   ]
  },
  {
   "cell_type": "markdown",
   "metadata": {},
   "source": [
    "\n",
    "<div class=\"alert alert-success\">\n",
    "\n",
    "**[Juan Diego Castro Rodríguez]** <br><br>\n",
    "[juand.castro@urosario.edu.co]\n",
    "</div>"
   ]
  },
  {
   "cell_type": "markdown",
   "metadata": {},
   "source": [
    "## Instrucciones:\n",
    "- Guarde una copia de este *Jupyter Notebook* en su computador, idealmente en una carpeta destinada al material del curso.\n",
    "- Modifique el nombre del archivo del *notebook*, agregando al final un guión inferior y su nombre y apellido, separados estos últimos por otro guión inferior. Por ejemplo, mi *notebook* se llamaría: mcpp_taller8_santiago_matallana\n",
    "- Marque el *notebook* con su nombre y e-mail en el bloque verde arriba. Reemplace el texto \"[Su nombre acá]\" con su nombre y apellido. Similar para su e-mail.\n",
    "- Desarrolle la totalidad del taller sobre este *notebook*, insertando las celdas que sea necesario debajo de cada pregunta. Haga buen uso de las celdas para código y de las celdas tipo *markdown* según el caso.\n",
    "- Recuerde salvar periódicamente sus avances.\n",
    "- Cuando termine el taller:\n",
    "    1. Descárguelo en PDF. Si tiene algún problema con la conversión, descárguelo en HTML.\n",
    "    2. Suba todos los archivos a su repositorio en GitHub, en una carpeta destinada exclusivamente para este taller, antes de la fecha y hora límites."
   ]
  },
  {
   "cell_type": "markdown",
   "metadata": {},
   "source": [
    "---"
   ]
  },
  {
   "cell_type": "markdown",
   "metadata": {},
   "source": [
    "### 1. [1 punto]\n",
    "\n",
    "Usando expresiones regulares extraiga en una lista todos los números presentes en el siguiente objeto de Python:\n",
    "\n",
    "ob1 = \"JEFF BEZOS, the founder of Amazon, has reached a divorce settlement with his wife, MacKenzie. Mr Bezos will keep all the shares in the Washington Post and Blue Origin, a space-exploration firm, as well as 75% of the couple’s Amazon stock. Mrs Bezos will retain a 4% stake in the tech giant, worth nearly $36bn, which is likely to make her the third-richest woman alive when the divorce is finalised.\""
   ]
  },
  {
   "cell_type": "code",
   "execution_count": 7,
   "metadata": {},
   "outputs": [],
   "source": [
    "import re\n",
    "ob1 = \"JEFF BEZOS, the founder of Amazon, has reached a divorce settlement with his wife, MacKenzie. Mr Bezos will keep all the shares in the Washington Post and Blue Origin, a space-exploration firm, as well as 75% of the couple’s Amazon stock. Mrs Bezos will retain a 4% stake in the tech giant, worth nearly $36bn, which is likely to make her the third-richest woman alive when the divorce is finalised.\""
   ]
  },
  {
   "cell_type": "code",
   "execution_count": 3,
   "metadata": {},
   "outputs": [
    {
     "data": {
      "text/plain": [
       "['75', '4', '36']"
      ]
     },
     "execution_count": 3,
     "metadata": {},
     "output_type": "execute_result"
    }
   ],
   "source": [
    "re.findall(\"\\d+\", ob1)"
   ]
  },
  {
   "cell_type": "markdown",
   "metadata": {},
   "source": [
    "### 2. [1 punto]\n",
    "\n",
    "Usando expresiones regulares ahora extraiga de *ob1* sólo los números que correspondan a porcentajes."
   ]
  },
  {
   "cell_type": "code",
   "execution_count": 5,
   "metadata": {},
   "outputs": [
    {
     "data": {
      "text/plain": [
       "['75%', '4%']"
      ]
     },
     "execution_count": 5,
     "metadata": {},
     "output_type": "execute_result"
    }
   ],
   "source": [
    "re.findall(\"\\d+%\", ob1)"
   ]
  },
  {
   "cell_type": "markdown",
   "metadata": {},
   "source": [
    "### 3. [2 puntos]\n",
    "\n",
    "Usando expresiones regulares, escriba una función de Python que reciba una fecha en formato **Marzo 7, 2019** y retorne la fecha en formato **2019-07-03**"
   ]
  },
  {
   "cell_type": "code",
   "execution_count": 34,
   "metadata": {},
   "outputs": [],
   "source": [
    "def convertir_mes(mes):\n",
    "    meses = [\"Enero\", \"Febrero\", \"Marzo\", \"Abril\", \"Mayo\", \"Junio\", \"Julio\", \"Agosto\", \"Septiembre\", \"Octubre\", \"Noviembre\", \"Diciembre\"]\n",
    "    return meses.index(mes) + 1\n",
    "\n",
    "\n",
    "def fecha_formato(x):\n",
    "    a=re.search(\"\\w+\", x).group()\n",
    "    b=re.findall(\"\\d+\", x)\n",
    "    return(str(b[1])+\"-\"+str(b[0]).zfill(2)+\"-\"+str(convertir_mes(a)).zfill(2))"
   ]
  },
  {
   "cell_type": "code",
   "execution_count": 36,
   "metadata": {},
   "outputs": [
    {
     "data": {
      "text/plain": [
       "'2019-07-03'"
      ]
     },
     "execution_count": 36,
     "metadata": {},
     "output_type": "execute_result"
    }
   ],
   "source": [
    "x=\"Marzo 7, 2019\"\n",
    "fecha_formato(x)"
   ]
  },
  {
   "cell_type": "code",
   "execution_count": 37,
   "metadata": {},
   "outputs": [
    {
     "data": {
      "text/plain": [
       "'2021-22-04'"
      ]
     },
     "execution_count": 37,
     "metadata": {},
     "output_type": "execute_result"
    }
   ],
   "source": [
    "y=\"Abril 22, 2021\"\n",
    "fecha_formato(y)"
   ]
  },
  {
   "cell_type": "code",
   "execution_count": 38,
   "metadata": {},
   "outputs": [
    {
     "data": {
      "text/plain": [
       "'2020-01-12'"
      ]
     },
     "execution_count": 38,
     "metadata": {},
     "output_type": "execute_result"
    }
   ],
   "source": [
    "z=\"Diciembre 1, 2020\"\n",
    "fecha_formato(z)"
   ]
  },
  {
   "cell_type": "markdown",
   "metadata": {},
   "source": [
    "### 4. [3 puntos]\n",
    "\n",
    "*ob2* es un string que reune una lista de clases en una universidad. Use expresiones regulares para extraer los códigos de cada una de las clases. Ejemplo: El código de la clase **COMPSCI 143 (Spring 2012): Machine Learning** es 143.\n",
    "\n",
    "ob2 = \"COMPSCI 270 (Spring 2019): Introduction to Artificial Intelligence.\n",
    "COMPSCI 590.2 (Fall 2018): Computational Microeconomics: Game Theory, Social Choice, and Mechanism Design.\n",
    "COMPSCI 223 (Spring 2018): Computational Microeconomics.\n",
    "COMPSCI 570 (Fall 2017): Artificial Intelligence.\n",
    "COMPSCI 590.3 (Fall 2017) / 590.1 (Spring 2018): Ethics and AI.\n",
    "COMPSCI 590.2 (Spring 2017): Computation, Information, and Learning in Market Design.\n",
    "COMPSCI 590.4 (Spring 2016): Computational Microeconomics: Game Theory, Social Choice, and Mechanism Design.\n",
    "COMPSCI 290.4/590.4 (Spring 2015): Crowdsourcing Societal Tradeoffs.\n",
    "COMPSCI 570 (Fall 2014): Artificial Intelligence.\n",
    "COMPSCI 590.4 (Spring 2014): Computational Microeconomics: Game Theory, Social Choice, and Mechanism Design.\n",
    "COMPSCI 590.1 (Fall 2012): Linear and Integer Programming.\n",
    "COMPSCI 173 (Spring 2012): Computational Microeconomics.\n",
    "COMPSCI 296.1 (Fall 2011): Computational Microeconomics: Game Theory, Social Choice, and Mechanism Design.\n",
    "COMPSCI 296.1 (Fall 2010): Linear and Integer Programming.\n",
    "COMPSCI 173 (Spring 2010): Computational Microeconomics.\n",
    "COMPSCI 196.1/296.1 (Fall 2009): Computational Microeconomics: Game Theory, Social Choice, and Mechanism Design.\n",
    "COMPSCI 170 (Spring 2009): Introduction to Artificial Intelligence.\n",
    "COMPSCI 270 (Fall 2008): Artificial Intelligence.\n",
    "COMPSCI 196/296.2 (Spring 2008): Linear and Integer Programming.\n",
    "COMPSCI 196.2 (Fall 2007): Introduction to Computational Economics.\n",
    "COMPSCI 296.3 (Spring 2007): Topics in Computational Economics.\n",
    "COMPSCI 296.2 (Fall 2006): Computational Game Theory and Mechanism Design.\"\n"
   ]
  },
  {
   "cell_type": "code",
   "execution_count": 39,
   "metadata": {},
   "outputs": [],
   "source": [
    "ob2 = \"COMPSCI 270 (Spring 2019): Introduction to Artificial Intelligence. COMPSCI 590.2 (Fall 2018): Computational Microeconomics: Game Theory, Social Choice, and Mechanism Design. COMPSCI 223 (Spring 2018): Computational Microeconomics. COMPSCI 570 (Fall 2017): Artificial Intelligence. COMPSCI 590.3 (Fall 2017) / 590.1 (Spring 2018): Ethics and AI. COMPSCI 590.2 (Spring 2017): Computation, Information, and Learning in Market Design. COMPSCI 590.4 (Spring 2016): Computational Microeconomics: Game Theory, Social Choice, and Mechanism Design. COMPSCI 290.4/590.4 (Spring 2015): Crowdsourcing Societal Tradeoffs. COMPSCI 570 (Fall 2014): Artificial Intelligence. COMPSCI 590.4 (Spring 2014): Computational Microeconomics: Game Theory, Social Choice, and Mechanism Design. COMPSCI 590.1 (Fall 2012): Linear and Integer Programming. COMPSCI 173 (Spring 2012): Computational Microeconomics. COMPSCI 296.1 (Fall 2011): Computational Microeconomics: Game Theory, Social Choice, and Mechanism Design. COMPSCI 296.1 (Fall 2010): Linear and Integer Programming. COMPSCI 173 (Spring 2010): Computational Microeconomics. COMPSCI 196.1/296.1 (Fall 2009): Computational Microeconomics: Game Theory, Social Choice, and Mechanism Design. COMPSCI 170 (Spring 2009): Introduction to Artificial Intelligence. COMPSCI 270 (Fall 2008): Artificial Intelligence. COMPSCI 196/296.2 (Spring 2008): Linear and Integer Programming. COMPSCI 196.2 (Fall 2007): Introduction to Computational Economics. COMPSCI 296.3 (Spring 2007): Topics in Computational Economics. COMPSCI 296.2 (Fall 2006): Computational Game Theory and Mechanism Design.\""
   ]
  },
  {
   "cell_type": "code",
   "execution_count": 42,
   "metadata": {},
   "outputs": [
    {
     "data": {
      "text/plain": [
       "['270',\n",
       " '590',\n",
       " '223',\n",
       " '570',\n",
       " '590',\n",
       " '590',\n",
       " '590',\n",
       " '290',\n",
       " '570',\n",
       " '590',\n",
       " '590',\n",
       " '173',\n",
       " '296',\n",
       " '296',\n",
       " '173',\n",
       " '196',\n",
       " '170',\n",
       " '270',\n",
       " '196',\n",
       " '196',\n",
       " '296',\n",
       " '296']"
      ]
     },
     "execution_count": 42,
     "metadata": {},
     "output_type": "execute_result"
    }
   ],
   "source": [
    "re.findall(\"COMPSCI (\\d+)\", ob2)"
   ]
  },
  {
   "cell_type": "markdown",
   "metadata": {},
   "source": [
    "### 5. [5 puntos]\n",
    "\n",
    "*ob3* es un string que reune una lista de publicaciones. Use expresiones regulares para extraer todos los *Journals* en los cuales el autor ha publicado. Ejemplo: El paper **Bail, CA. \"The configuration of symbolic boundaries against immigrants in Europe.\" American Sociological Review 73.1 (January 1, 2008): 37-59. Full Text** fue publicado en el Journal *American Sociological Review*\n",
    "\n",
    " ob3 = \"Bail, CA, Argyle, LP, Brown, TW, Bumpus, JP, Chen, H, Hunzaker, MBF, Lee, J, Mann, M, Merhout, F, and Volfovsky, A. \\\"Exposure to opposing views on social media can increase political polarization.\\\" Proceedings of the National Academy of Sciences of the United States of America 115.37 (September 2018): 9216-9221. Full Text Open Access Copy.\\n\",\n",
    "    \"Bail, CA, Merhout, F, and Ding, P. \\\"Using Internet search data to examine the relationship between anti-Muslim and pro-ISIS sentiment in U.S. counties.\\\" Science Advances 4.6 (June 6, 2018): eaao5948-null. Full Text Open Access Copy.\\n\",\n",
    "    \"Bail, CA, Brown, TW, and Mann, M. \\\"Channeling Hearts and Minds: Advocacy Organizations, Cognitive-Emotional Currents, and Public Conversation.\\\" American Sociological Review 82.6 (December 1, 2017): 1188-1213. Full Text.\\n\",\n",
    "    \"Bail, CA. \\\"Taming Big Data: Using App Technology to Study Organizational Behavior on Social Media.\\\" Sociological Methods and Research 46.2 (March 1, 2017): 189-217. Full Text.\\n\",\n",
    "    \"McDonnell, TE, Bail, CA, and Tavory, I. \\\"A Theory of Resonance.\\\" Sociological Theory 35.1 (March 1, 2017): 1-14. Full Text.\\n\",\n",
    "    \"Bail, CA. \\\"Combining natural language processing and network analysis to examine how advocacy organizations stimulate conversation on social media.\\\" Proceedings of the National Academy of Sciences of the United States of America 113.42 (October 2016): 11823-11828. Full Text.\\n\",\n",
    "    \"Bail, CA. \\\"Emotional Feedback and the Viral Spread of Social Media Messages About Autism Spectrum Disorders.\\\" American journal of public health 106.7 (July 2016): 1173-1180. Full Text.\\n\",\n",
    "    \"Bail, CA. \\\"The public life of secrets: Deception, disclosure, and discursive framing in the policy process.\\\" Sociological Theory 33.2 (January 1, 2015): 97-124. Full Text.\\n\",\n",
    "    \"Bail, CA. \\\"The cultural environment: Measuring culture with big data.\\\" Theory and Society 43.3 (January 1, 2014): 465-524. Full Text.\\\"\""
   ]
  },
  {
   "cell_type": "code",
   "execution_count": 84,
   "metadata": {},
   "outputs": [],
   "source": [
    "ob3 = 'Bail, CA, Argyle, LP, Brown, TW, Bumpus, JP, Chen, H, Hunzaker, MBF, Lee, J, Mann, M, Merhout, F, and Volfovsky, A. \"Exposure to opposing views on social media can increase political polarization.\" Proceedings of the National Academy of Sciences of the United States of America 115.37 (September 2018): 9216-9221. Full Text Open Access Copy.\\n', 'Bail, CA, Merhout, F, and Ding, P. \"Using Internet search data to examine the relationship between anti-Muslim and pro-ISIS sentiment in U.S. counties.\" Science Advances 4.6 (June 6, 2018): eaao5948-null. Full Text Open Access Copy.\\n', 'Bail, CA, Brown, TW, and Mann, M. \"Channeling Hearts and Minds: Advocacy Organizations, Cognitive-Emotional Currents, and Public Conversation.\" American Sociological Review 82.6 (December 1, 2017): 1188-1213. Full Text.\\n', 'Bail, CA. \"Taming Big Data: Using App Technology to Study Organizational Behavior on Social Media.\" Sociological Methods and Research 46.2 (March 1, 2017): 189-217. Full Text.\\n', 'McDonnell, TE, Bail, CA, and Tavory, I. \"A Theory of Resonance.\" Sociological Theory 35.1 (March 1, 2017): 1-14. Full Text.\\n', 'Bail, CA. \"Combining natural language processing and network analysis to examine how advocacy organizations stimulate conversation on social media.\" Proceedings of the National Academy of Sciences of the United States of America 113.42 (October 2016): 11823-11828. Full Text.\\n', 'Bail, CA. \"Emotional Feedback and the Viral Spread of Social Media Messages About Autism Spectrum Disorders.\" American journal of public health 106.7 (July 2016): 1173-1180. Full Text.\\n', 'Bail, CA. \"The public life of secrets: Deception, disclosure, and discursive framing in the policy process.\" Sociological Theory 33.2 (January 1, 2015): 97-124. Full Text.\\n', 'Bail, CA. \"The cultural environment: Measuring culture with big data.\" Theory and Society 43.3 (January 1, 2014): 465-524. Full Text.'"
   ]
  },
  {
   "cell_type": "code",
   "execution_count": 136,
   "metadata": {},
   "outputs": [
    {
     "data": {
      "text/plain": [
       "[' Proceedings of the National Academy of Sciences of the United States of America',\n",
       " ' Science Advances',\n",
       " ' American Sociological Review',\n",
       " ' Sociological Methods and Research',\n",
       " ' Sociological Theory',\n",
       " ' Proceedings of the National Academy of Sciences of the United States of America',\n",
       " ' American journal of public health',\n",
       " ' Sociological Theory',\n",
       " ' Theory and Society']"
      ]
     },
     "execution_count": 136,
     "metadata": {},
     "output_type": "execute_result"
    }
   ],
   "source": [
    "re.findall( \"([\\w\\s+]+)\\s\\d+[.]\\d+\", str(ob3))"
   ]
  },
  {
   "cell_type": "markdown",
   "metadata": {},
   "source": [
    "### 6. [10 puntos]\n",
    "\n",
    "\n",
    "Vamos a hacer \"scraping\" a esta página: https://archive.ics.uci.edu/ml/datasets.php, que contiene un listado de 559 bases de datos que hacen parte del repositorio de la Universidad de California, Irvine."
   ]
  },
  {
   "cell_type": "markdown",
   "metadata": {},
   "source": [
    "\n",
    "Su tarea consiste en crear un \"Pandas dataframe\" que contenga 585 filas (una por base de datos) y las siguientes columnas:\n",
    "- Nombre de la base de datos\n",
    "- Link a la base de datos\n",
    "- Tipo de datos\n",
    "- Tipo de tarea a resolver (default task)\n",
    "- Tipo de las variables\n",
    "- Número de observaciones\n",
    "- Número de variables\n",
    "- Año\n",
    "- Descripción de la base (Pista: Utilice la opción list view: https://archive.ics.uci.edu/ml/datasets.php?format=&task=&att=&area=&numAtt=&numIns=&type=&sort=nameUp&view=list)"
   ]
  },
  {
   "cell_type": "markdown",
   "metadata": {},
   "source": [
    "Diviértase."
   ]
  },
  {
   "cell_type": "code",
   "execution_count": 142,
   "metadata": {},
   "outputs": [],
   "source": [
    "import re\n",
    "import requests\n",
    "from bs4 import BeautifulSoup\n",
    "import pandas as pd\n",
    "def get_html(url):\n",
    "    resp = requests.get(url).text\n",
    "    resp = resp.replace(\"&nbsp;\", \" \")\n",
    "    return BeautifulSoup(resp,\"lxml\")\n",
    "def get_table1(html):\n",
    "    table = html.find('table', attrs={\"border\":\"1\", \"cellpadding\":\"5\"})\n",
    "    return table\n",
    "def get_names(table):\n",
    "    names = re.findall('(?<=\\>)\\.*([^>]*)(?=<\\/a><\\/b><\\/p><\\/td><\\/tr><\\/table><\\/td>)', str(table))\n",
    "    return names\n",
    "def get_links(table):\n",
    "    links = re.findall('\"(datasets/.+?)\"', str(table))\n",
    "    links = links[::2]\n",
    "    return links\n",
    "def get_other_data(table):\n",
    "    all_data = re.findall('<td><p class=\"normal\">(.*?) <\\/p><\\/td>\\n', str(table))\n",
    "    return all_data\n",
    "def get_description():\n",
    "    resp = requests.get(\"https://archive.ics.uci.edu/ml/datasets.php?format=&task=&att=&area=&numAtt=&numIns=&type=&sort=nameUp&view=list\").text\n",
    "    html = BeautifulSoup(resp,\"lxml\") \n",
    "    table = html.find('table', attrs={\"cellpadding\":\"3\"})\n",
    "    description = re.findall('</a></b>:(.*?)</p><', str(table), re.DOTALL)\n",
    "    return description\n",
    "def frame():\n",
    "    html = get_html('https://archive.ics.uci.edu/ml/datasets.php?format=&task=&att=&area=&numAtt=&numIns=&type=&sort=nameUp&view=table')\n",
    "    table = get_table1(html)\n",
    "    names = get_names(table)\n",
    "    links = get_links(table)\n",
    "    other_data = get_other_data(table)\n",
    "    data_type = other_data[::6]\n",
    "    default_task = other_data[1::6]\n",
    "    type_of_variables = other_data[2::6]\n",
    "    observations = other_data[3::6]\n",
    "    number_of_variables = other_data[4::6]\n",
    "    year = other_data[5::6]\n",
    "    description = get_description()\n",
    "    df = pd.DataFrame({\"Names\": names, \"Links\":links, \"Data Type\":data_type, \"Default Task\":default_task,\n",
    "                   \"Type of Variables\":type_of_variables,\"Observations\":observations,\"Number of variables\": number_of_variables, \"Year\":year, \"Description\":description})\n",
    "    return df"
   ]
  },
  {
   "cell_type": "code",
   "execution_count": 143,
   "metadata": {},
   "outputs": [],
   "source": [
    "frame= frame()"
   ]
  },
  {
   "cell_type": "code",
   "execution_count": 144,
   "metadata": {},
   "outputs": [
    {
     "data": {
      "text/html": [
       "<div>\n",
       "<style scoped>\n",
       "    .dataframe tbody tr th:only-of-type {\n",
       "        vertical-align: middle;\n",
       "    }\n",
       "\n",
       "    .dataframe tbody tr th {\n",
       "        vertical-align: top;\n",
       "    }\n",
       "\n",
       "    .dataframe thead th {\n",
       "        text-align: right;\n",
       "    }\n",
       "</style>\n",
       "<table border=\"1\" class=\"dataframe\">\n",
       "  <thead>\n",
       "    <tr style=\"text-align: right;\">\n",
       "      <th></th>\n",
       "      <th>Names</th>\n",
       "      <th>Links</th>\n",
       "      <th>Data Type</th>\n",
       "      <th>Default Task</th>\n",
       "      <th>Type of Variables</th>\n",
       "      <th>Observations</th>\n",
       "      <th>Number of variables</th>\n",
       "      <th>Year</th>\n",
       "      <th>Description</th>\n",
       "    </tr>\n",
       "  </thead>\n",
       "  <tbody>\n",
       "    <tr>\n",
       "      <th>0</th>\n",
       "      <td>2.4 GHZ Indoor Channel Measurements</td>\n",
       "      <td>datasets/2.4+GHZ+Indoor+Channel+Measurements</td>\n",
       "      <td>Multivariate</td>\n",
       "      <td>Classification</td>\n",
       "      <td>Real</td>\n",
       "      <td>7840</td>\n",
       "      <td>5</td>\n",
       "      <td>2018</td>\n",
       "      <td>Measurement of the S21,consists of 10 sweeps,...</td>\n",
       "    </tr>\n",
       "    <tr>\n",
       "      <th>1</th>\n",
       "      <td>3D Road Network (North Jutland, Denmark)</td>\n",
       "      <td>datasets/3D+Road+Network+%28North+Jutland%2C+D...</td>\n",
       "      <td>Sequential, Text</td>\n",
       "      <td>Regression, Clustering</td>\n",
       "      <td>Real</td>\n",
       "      <td>434874</td>\n",
       "      <td>4</td>\n",
       "      <td>2013</td>\n",
       "      <td>3D road network with highly accurate elevatio...</td>\n",
       "    </tr>\n",
       "    <tr>\n",
       "      <th>2</th>\n",
       "      <td>3W dataset</td>\n",
       "      <td>datasets/3W+dataset</td>\n",
       "      <td>Multivariate, Time-Series</td>\n",
       "      <td>Classification, Clustering</td>\n",
       "      <td>Integer, Real</td>\n",
       "      <td>1984</td>\n",
       "      <td>8</td>\n",
       "      <td>2019</td>\n",
       "      <td>The first realistic and public dataset with r...</td>\n",
       "    </tr>\n",
       "    <tr>\n",
       "      <th>3</th>\n",
       "      <td>: Simulated Data set of Iraqi tourism places</td>\n",
       "      <td>datasets/%3A+Simulated+Data+set+of+Iraqi+touri...</td>\n",
       "      <td>Multivariate</td>\n",
       "      <td>Classification, Clustering</td>\n",
       "      <td></td>\n",
       "      <td>232</td>\n",
       "      <td>16</td>\n",
       "      <td>2020</td>\n",
       "      <td>Simulated Data set of Iraqi tourism places wi...</td>\n",
       "    </tr>\n",
       "    <tr>\n",
       "      <th>4</th>\n",
       "      <td>A study of  Asian Religious and Biblical Texts</td>\n",
       "      <td>datasets/A+study+of++Asian+Religious+and+Bibli...</td>\n",
       "      <td>Multivariate, Text</td>\n",
       "      <td>Classification, Clustering</td>\n",
       "      <td>Integer</td>\n",
       "      <td>590</td>\n",
       "      <td>8265</td>\n",
       "      <td>2019</td>\n",
       "      <td>Mainly from Project Gutenberg, we combine Upa...</td>\n",
       "    </tr>\n",
       "    <tr>\n",
       "      <th>...</th>\n",
       "      <td>...</td>\n",
       "      <td>...</td>\n",
       "      <td>...</td>\n",
       "      <td>...</td>\n",
       "      <td>...</td>\n",
       "      <td>...</td>\n",
       "      <td>...</td>\n",
       "      <td>...</td>\n",
       "      <td>...</td>\n",
       "    </tr>\n",
       "    <tr>\n",
       "      <th>580</th>\n",
       "      <td>Youtube cookery channels viewers comments in H...</td>\n",
       "      <td>datasets/Youtube+cookery+channels+viewers+comm...</td>\n",
       "      <td>Multivariate, Text</td>\n",
       "      <td>Classification</td>\n",
       "      <td></td>\n",
       "      <td>9800</td>\n",
       "      <td>3</td>\n",
       "      <td>2019</td>\n",
       "      <td>The datasets are taken from top 2 Indian cook...</td>\n",
       "    </tr>\n",
       "    <tr>\n",
       "      <th>581</th>\n",
       "      <td>YouTube Multiview Video Games Dataset</td>\n",
       "      <td>datasets/YouTube+Multiview+Video+Games+Dataset</td>\n",
       "      <td>Multivariate, Text</td>\n",
       "      <td>Classification, Clustering</td>\n",
       "      <td>Integer, Real</td>\n",
       "      <td>120000</td>\n",
       "      <td>1000000</td>\n",
       "      <td>2013</td>\n",
       "      <td>This dataset contains about 120k instances, e...</td>\n",
       "    </tr>\n",
       "    <tr>\n",
       "      <th>582</th>\n",
       "      <td>YouTube Spam Collection</td>\n",
       "      <td>datasets/YouTube+Spam+Collection</td>\n",
       "      <td>Text</td>\n",
       "      <td>Classification</td>\n",
       "      <td></td>\n",
       "      <td>1956</td>\n",
       "      <td>5</td>\n",
       "      <td>2017</td>\n",
       "      <td>It is a public set of comments collected for ...</td>\n",
       "    </tr>\n",
       "    <tr>\n",
       "      <th>583</th>\n",
       "      <td>Z-Alizadeh Sani</td>\n",
       "      <td>datasets/Z-Alizadeh+Sani</td>\n",
       "      <td></td>\n",
       "      <td>Classification</td>\n",
       "      <td>Integer, Real</td>\n",
       "      <td>303</td>\n",
       "      <td>56</td>\n",
       "      <td>2017</td>\n",
       "      <td>It was collected for CAD diagnosis.</td>\n",
       "    </tr>\n",
       "    <tr>\n",
       "      <th>584</th>\n",
       "      <td>Zoo</td>\n",
       "      <td>datasets/Zoo</td>\n",
       "      <td>Multivariate</td>\n",
       "      <td>Classification</td>\n",
       "      <td>Categorical, Integer</td>\n",
       "      <td>101</td>\n",
       "      <td>17</td>\n",
       "      <td>1990</td>\n",
       "      <td>Artificial, 7 classes of animals</td>\n",
       "    </tr>\n",
       "  </tbody>\n",
       "</table>\n",
       "<p>585 rows × 9 columns</p>\n",
       "</div>"
      ],
      "text/plain": [
       "                                                 Names  \\\n",
       "0                  2.4 GHZ Indoor Channel Measurements   \n",
       "1             3D Road Network (North Jutland, Denmark)   \n",
       "2                                           3W dataset   \n",
       "3         : Simulated Data set of Iraqi tourism places   \n",
       "4       A study of  Asian Religious and Biblical Texts   \n",
       "..                                                 ...   \n",
       "580  Youtube cookery channels viewers comments in H...   \n",
       "581              YouTube Multiview Video Games Dataset   \n",
       "582                            YouTube Spam Collection   \n",
       "583                                    Z-Alizadeh Sani   \n",
       "584                                                Zoo   \n",
       "\n",
       "                                                 Links  \\\n",
       "0         datasets/2.4+GHZ+Indoor+Channel+Measurements   \n",
       "1    datasets/3D+Road+Network+%28North+Jutland%2C+D...   \n",
       "2                                  datasets/3W+dataset   \n",
       "3    datasets/%3A+Simulated+Data+set+of+Iraqi+touri...   \n",
       "4    datasets/A+study+of++Asian+Religious+and+Bibli...   \n",
       "..                                                 ...   \n",
       "580  datasets/Youtube+cookery+channels+viewers+comm...   \n",
       "581     datasets/YouTube+Multiview+Video+Games+Dataset   \n",
       "582                   datasets/YouTube+Spam+Collection   \n",
       "583                           datasets/Z-Alizadeh+Sani   \n",
       "584                                       datasets/Zoo   \n",
       "\n",
       "                     Data Type                Default Task  \\\n",
       "0                 Multivariate              Classification   \n",
       "1             Sequential, Text      Regression, Clustering   \n",
       "2    Multivariate, Time-Series  Classification, Clustering   \n",
       "3                 Multivariate  Classification, Clustering   \n",
       "4           Multivariate, Text  Classification, Clustering   \n",
       "..                         ...                         ...   \n",
       "580         Multivariate, Text              Classification   \n",
       "581         Multivariate, Text  Classification, Clustering   \n",
       "582                       Text              Classification   \n",
       "583                                         Classification   \n",
       "584               Multivariate              Classification   \n",
       "\n",
       "        Type of Variables Observations Number of variables  Year  \\\n",
       "0                    Real         7840                   5  2018   \n",
       "1                    Real       434874                   4  2013   \n",
       "2           Integer, Real         1984                   8  2019   \n",
       "3                                  232                  16  2020   \n",
       "4                 Integer          590                8265  2019   \n",
       "..                    ...          ...                 ...   ...   \n",
       "580                               9800                   3  2019   \n",
       "581         Integer, Real       120000             1000000  2013   \n",
       "582                               1956                   5  2017   \n",
       "583         Integer, Real          303                  56  2017   \n",
       "584  Categorical, Integer          101                  17  1990   \n",
       "\n",
       "                                           Description  \n",
       "0     Measurement of the S21,consists of 10 sweeps,...  \n",
       "1     3D road network with highly accurate elevatio...  \n",
       "2     The first realistic and public dataset with r...  \n",
       "3     Simulated Data set of Iraqi tourism places wi...  \n",
       "4     Mainly from Project Gutenberg, we combine Upa...  \n",
       "..                                                 ...  \n",
       "580   The datasets are taken from top 2 Indian cook...  \n",
       "581   This dataset contains about 120k instances, e...  \n",
       "582   It is a public set of comments collected for ...  \n",
       "583                It was collected for CAD diagnosis.  \n",
       "584                   Artificial, 7 classes of animals  \n",
       "\n",
       "[585 rows x 9 columns]"
      ]
     },
     "execution_count": 144,
     "metadata": {},
     "output_type": "execute_result"
    }
   ],
   "source": [
    "frame"
   ]
  },
  {
   "cell_type": "markdown",
   "metadata": {},
   "source": [
    "-----"
   ]
  }
 ],
 "metadata": {
  "anaconda-cloud": {},
  "kernelspec": {
   "display_name": "Python 3",
   "language": "python",
   "name": "python3"
  },
  "language_info": {
   "codemirror_mode": {
    "name": "ipython",
    "version": 3
   },
   "file_extension": ".py",
   "mimetype": "text/x-python",
   "name": "python",
   "nbconvert_exporter": "python",
   "pygments_lexer": "ipython3",
   "version": "3.8.5"
  }
 },
 "nbformat": 4,
 "nbformat_minor": 1
}
