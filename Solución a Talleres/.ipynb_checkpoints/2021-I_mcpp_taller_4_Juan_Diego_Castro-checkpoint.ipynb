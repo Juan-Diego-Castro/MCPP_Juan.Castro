{
 "cells": [
  {
   "cell_type": "markdown",
   "metadata": {},
   "source": [
    "# Taller 4\n",
    "Métodos Computacionales para Políticas Públicas - URosario\n",
    "\n",
    "**Entrega: viernes 27-feb-2021 11:59 PM**"
   ]
  },
  {
   "cell_type": "markdown",
   "metadata": {},
   "source": [
    "<div class=\"alert alert-success\">\n",
    "\n",
    "**[Juan Diego Castro Rodríguez]** <br><br>\n",
    "[juand.castro@urosario.edu.co]\n",
    "</div>"
   ]
  },
  {
   "cell_type": "markdown",
   "metadata": {},
   "source": [
    "## Instrucciones:\n",
    "- Guarde una copia de este *Jupyter Notebook* en su computador, idealmente en una carpeta destinada al material del curso.\n",
    "- Modifique el nombre del archivo del *notebook*, agregando al final un guión inferior y su nombre y apellido, separados estos últimos por otro guión inferior. Por ejemplo, mi *notebook* se llamaría: mcpp_taller4_santiago_matallana\n",
    "- Marque el *notebook* con su nombre y e-mail en el bloque verde arriba. Reemplace el texto \"[Su nombre acá]\" con su nombre y apellido. Similar para su e-mail.\n",
    "- Desarrolle la totalidad del taller sobre este *notebook*, insertando las celdas que sea necesario debajo de cada pregunta. Haga buen uso de las celdas para código y de las celdas tipo *markdown* según el caso.\n",
    "- Recuerde salvar periódicamente sus avances.\n",
    "- Cuando termine el taller:\n",
    "    1. Descárguelo en PDF.\n",
    "    2. Suba los dos archivos (.pdf y .ipynb) a su repositorio en GitHub antes de la fecha y hora límites.\n",
    "\n",
    "(Todos los ejercicios tienen el mismo valor.)"
   ]
  },
  {
   "cell_type": "markdown",
   "metadata": {},
   "source": [
    "---"
   ]
  },
  {
   "cell_type": "markdown",
   "metadata": {},
   "source": [
    "## Zelle, Exercises 6.8 (p. 159):\n",
    "\n",
    "- True/False: 1-10\n",
    "- Multiple choice: 2, 3, 6, 7, 10\n",
    "- Programming Exercises: 1, 3, 4, 11, 12, 13"
   ]
  },
  {
   "cell_type": "markdown",
   "metadata": {},
   "source": [
    "## True/False:\n",
    "### 1:false\n",
    "### 2:false\n",
    "### 3:true\n",
    "### 4:true\n",
    "### 5:false\n",
    "### 6:false\n",
    "### 7:false\n",
    "### 8:true\n",
    "### 9:true\n",
    "### 10:false\n",
    "## Multiple Choice:\n",
    "### 2 A python function definitions begins with:\n",
    "    a) def\n",
    "### 3 A function can send output back to the program with a(n):\n",
    "    a)return\n",
    "### 6 In python, actual parameters are passed to functions\n",
    "    a)by value\n",
    "### 7 Which of the following is not a reason to use functions?\n",
    "    d)to demonstrate intellectual superiority\n",
    "### 10 A function can modify the value of an actual parameter only if it's \n",
    "    a)mutable\n"
   ]
  },
  {
   "cell_type": "markdown",
   "metadata": {},
   "source": [
    "## Programming Exercises"
   ]
  },
  {
   "cell_type": "markdown",
   "metadata": {},
   "source": [
    "## 1\n",
    "- Write a program to print the lyrics of the song \"old macdonald\", print the lyrics for five different animals."
   ]
  },
  {
   "cell_type": "code",
   "execution_count": 27,
   "metadata": {},
   "outputs": [],
   "source": [
    "def oldmacsong():\n",
    "    Base=\"Old MacDonald had a farm, Ee-igh, Eigh, Oh!\"\n",
    "    Cow=\"\"\"And on his farm he had a cow Ee-igh, Eigh, Oh!.\n",
    "With a moo, moo here and a moo moo there.\n",
    "Here a moo, there a moo, everywhere a moo moo\"\"\"\n",
    "    Dog=\"\"\"And on his farm he had a Dog Ee-igh, Eigh, Oh!.\n",
    "With a wof, wof here and wof wof there.\n",
    "Here a wof, there a wof, everywhere a wof wof\"\"\"\n",
    "    Cat=\"\"\"And on his farm he had a Cat Ee-igh, Eigh, Oh!.\n",
    "With a mau, mau here and mau mau there.\n",
    "Here a mau, there a mau, everywhere a mau mau\"\"\"\n",
    "    Octopus=\"\"\"And on his farm he had an Octopus Ee-igh, Eigh, Oh!.\n",
    "With a slurp, slurp here and slurp slurp there.\n",
    "Here a slurp, there a slurp everywhere a slurp slurp.\"\"\"\n",
    "    Perico=\"\"\"And on his farm he had a Perico Ee-igh, Eigh, Oh!.\n",
    "With a raw, raw here and raw raw there.\n",
    "Here a raw, there a raw everywhere a raw raw\"\"\"\n",
    "    print(Base+\"\\n\"+Cow+\"\\n\"+Base+\"\\n\"+Dog+\"\\n\"+Base+\"\\n\"+Cat+\"\\n\"+Base+\"\\n\"+Octopus+\"\\n\"+Base+\"\\n\"+Perico+\"\\n\"+Base)"
   ]
  },
  {
   "cell_type": "code",
   "execution_count": 28,
   "metadata": {},
   "outputs": [
    {
     "name": "stdout",
     "output_type": "stream",
     "text": [
      "Old MacDonald had a farm, Ee-igh, Eigh, Oh!\n",
      "And on his farm he had a cow Ee-igh, Eigh, Oh!.\n",
      "With a moo, moo here and a moo moo there.\n",
      "Here a moo, there a moo, everywhere a moo moo\n",
      "Old MacDonald had a farm, Ee-igh, Eigh, Oh!\n",
      "And on his farm he had a Dog Ee-igh, Eigh, Oh!.\n",
      "With a wof, wof here and wof wof there.\n",
      "Here a wof, there a wof, everywhere a wof wof\n",
      "Old MacDonald had a farm, Ee-igh, Eigh, Oh!\n",
      "And on his farm he had a Cat Ee-igh, Eigh, Oh!.\n",
      "With a mau, mau here and mau mau there.\n",
      "Here a mau, there a mau, everywhere a mau mau\n",
      "Old MacDonald had a farm, Ee-igh, Eigh, Oh!\n",
      "And on his farm he had an Octopus Ee-igh, Eigh, Oh!.\n",
      "With a slurp, slurp here and slurp slurp there.\n",
      "Here a slurp, there a slurp everywhere a slurp slurp.\n",
      "Old MacDonald had a farm, Ee-igh, Eigh, Oh!\n",
      "And on his farm he had a Perico Ee-igh, Eigh, Oh!.\n",
      "With a raw, raw here and raw raw there.\n",
      "Here a raw, there a raw everywhere a raw raw\n",
      "Old MacDonald had a farm, Ee-igh, Eigh, Oh!\n"
     ]
    }
   ],
   "source": [
    "oldmacsong()"
   ]
  },
  {
   "cell_type": "markdown",
   "metadata": {},
   "source": [
    "## 3\n",
    "### Write definitions for these functions:\n",
    "- sphereArea(radius) Returns the surface area of a sphere having the given radius.\n",
    "- sphereVolume(radius) Returns the volume of a sphere having given the radius.\n",
    "### Use your functions to solve Programming Exercise 1 from Chapter 3."
   ]
  },
  {
   "cell_type": "code",
   "execution_count": 43,
   "metadata": {},
   "outputs": [],
   "source": [
    "import math \n",
    "pi=math.pi\n",
    "def sphereArea(n):\n",
    "    area=4*pi*(n**2)\n",
    "    return(area)"
   ]
  },
  {
   "cell_type": "code",
   "execution_count": 44,
   "metadata": {},
   "outputs": [
    {
     "data": {
      "text/plain": [
       "615.7521601035994"
      ]
     },
     "execution_count": 44,
     "metadata": {},
     "output_type": "execute_result"
    }
   ],
   "source": [
    "sphereArea(7)"
   ]
  },
  {
   "cell_type": "code",
   "execution_count": 45,
   "metadata": {},
   "outputs": [],
   "source": [
    "def sphereVolume(n):\n",
    "    volume=(4/3)*pi*(n**3)\n",
    "    return(volume)        \n",
    "    "
   ]
  },
  {
   "cell_type": "code",
   "execution_count": 46,
   "metadata": {},
   "outputs": [
    {
     "data": {
      "text/plain": [
       "1436.7550402417319"
      ]
     },
     "execution_count": 46,
     "metadata": {},
     "output_type": "execute_result"
    }
   ],
   "source": [
    "sphereVolume(7)"
   ]
  },
  {
   "cell_type": "markdown",
   "metadata": {},
   "source": [
    "### Programming Exercise 1 chapther 3:\n",
    "- write a program to calculate the volume and surface area of a sphere from its radius, given as input"
   ]
  },
  {
   "cell_type": "code",
   "execution_count": 53,
   "metadata": {},
   "outputs": [
    {
     "name": "stdout",
     "output_type": "stream",
     "text": [
      "Ingrese el radio de la esfera: 7\n",
      "El Area es: 615.7521601035994 unidades cuadradas y el Volumen es: 1436.7550402417319 unidades cúbicas\n"
     ]
    }
   ],
   "source": [
    "x=int(input(\"Ingrese el radio de la esfera: \"))\n",
    "print(\"El Area es: \"+str(sphereArea(x))+\" unidades cuadradas\"+\" y el Volumen es: \"+str(sphereVolume(x))+\" unidades cúbicas\")"
   ]
  },
  {
   "cell_type": "markdown",
   "metadata": {},
   "source": [
    "## 4 \n",
    "### Write definitions for the following two functions\n",
    "- sumN(n) returns the sum of the first n natural numbers\n",
    "- sumNCubes(n) returns the sum of the cubes of the first n natural numbers"
   ]
  },
  {
   "cell_type": "code",
   "execution_count": 64,
   "metadata": {},
   "outputs": [],
   "source": [
    "def sumN(n):\n",
    "    suma=0\n",
    "    if n<=0:\n",
    "        print(\"sumN solo funciona con numeros naturales\")\n",
    "    else:\n",
    "        while n>0:\n",
    "            suma=suma+n\n",
    "            n=n-1\n",
    "    return suma\n",
    "    \n",
    "    "
   ]
  },
  {
   "cell_type": "code",
   "execution_count": 65,
   "metadata": {},
   "outputs": [
    {
     "data": {
      "text/plain": [
       "21"
      ]
     },
     "execution_count": 65,
     "metadata": {},
     "output_type": "execute_result"
    }
   ],
   "source": [
    "sumN(6)"
   ]
  },
  {
   "cell_type": "code",
   "execution_count": 66,
   "metadata": {},
   "outputs": [],
   "source": [
    "def sumNCubes(n):\n",
    "    add=0\n",
    "    if n<=0:\n",
    "        print(\"sumNCubes solo funciona con numeros naturales\")\n",
    "    else:\n",
    "        while n>0:\n",
    "            add=add+(n**2)\n",
    "            n=n-1\n",
    "    return add"
   ]
  },
  {
   "cell_type": "code",
   "execution_count": 67,
   "metadata": {},
   "outputs": [
    {
     "data": {
      "text/plain": [
       "91"
      ]
     },
     "execution_count": 67,
     "metadata": {},
     "output_type": "execute_result"
    }
   ],
   "source": [
    "sumNCubes(6)"
   ]
  },
  {
   "cell_type": "code",
   "execution_count": 72,
   "metadata": {},
   "outputs": [
    {
     "name": "stdout",
     "output_type": "stream",
     "text": [
      "Digite un número natural: 6\n",
      "la suma de los primeros 6 números naturales es: 21, y la suma de sus cuadrados es: 91\n"
     ]
    }
   ],
   "source": [
    "x=int(input(\"Digite un número natural: \"))\n",
    "while x<=0:\n",
    "    x=int(input(\"Por favor que sea un número natural: \"))\n",
    "if x==1:\n",
    "    print(\"la suma del primer número natural es :\"+str(sumN(x))+\" y la suma de su cuadrado es: \"+str(sumNCubes(x)))\n",
    "else:\n",
    "    print(\"la suma de los primeros \"+str(x)+\" números naturales es: \"+str(sumN(x))+\", y la suma de sus cuadrados es: \"+str(sumNCubes(x)))"
   ]
  },
  {
   "cell_type": "markdown",
   "metadata": {},
   "source": [
    "## 11\n",
    "### Write and test a function to meet this specification\n",
    "- squareEach(nums) nums is a list of numbers. Modifies the list by squaring each entry."
   ]
  },
  {
   "cell_type": "code",
   "execution_count": 36,
   "metadata": {},
   "outputs": [],
   "source": [
    "nums=[1,2,3,4,5,6,7,8,9,10]"
   ]
  },
  {
   "cell_type": "code",
   "execution_count": 37,
   "metadata": {},
   "outputs": [],
   "source": [
    "def squareEach(lista):\n",
    "    for x in range (len(lista)):\n",
    "        lista[x]=lista[x]**2\n",
    "    return lista"
   ]
  },
  {
   "cell_type": "code",
   "execution_count": 38,
   "metadata": {},
   "outputs": [
    {
     "data": {
      "text/plain": [
       "[1, 4, 9, 16, 25, 36, 49, 64, 81, 100]"
      ]
     },
     "execution_count": 38,
     "metadata": {},
     "output_type": "execute_result"
    }
   ],
   "source": [
    "squareEach(nums)"
   ]
  },
  {
   "cell_type": "code",
   "execution_count": 39,
   "metadata": {},
   "outputs": [
    {
     "data": {
      "text/plain": [
       "[1, 4, 9, 16, 25, 36, 49, 64, 81, 100]"
      ]
     },
     "execution_count": 39,
     "metadata": {},
     "output_type": "execute_result"
    }
   ],
   "source": [
    "nums"
   ]
  },
  {
   "cell_type": "markdown",
   "metadata": {},
   "source": [
    "## 12\n",
    "### Write and test a function to meet this specification\n",
    "- sumList(nums) nums is a list of numbers. Returns the sum of the numbers in the list."
   ]
  },
  {
   "cell_type": "code",
   "execution_count": 40,
   "metadata": {},
   "outputs": [],
   "source": [
    "numeros=[2,4,6,8,10]"
   ]
  },
  {
   "cell_type": "code",
   "execution_count": 41,
   "metadata": {},
   "outputs": [],
   "source": [
    "def sumList(lista):\n",
    "    sumatoria=0\n",
    "    for x in lista:\n",
    "        sumatoria += x\n",
    "    return sumatoria"
   ]
  },
  {
   "cell_type": "code",
   "execution_count": 42,
   "metadata": {},
   "outputs": [
    {
     "data": {
      "text/plain": [
       "30"
      ]
     },
     "execution_count": 42,
     "metadata": {},
     "output_type": "execute_result"
    }
   ],
   "source": [
    "sumList(numeros)"
   ]
  },
  {
   "cell_type": "markdown",
   "metadata": {},
   "source": [
    "## 13\n",
    "### Write and test a function to meet this specification\n",
    "- toNumbers(strList) strList is a list of strings, each of which represents a numbers. Modifies each entry in the list by converting it to a number."
   ]
  },
  {
   "cell_type": "code",
   "execution_count": 43,
   "metadata": {},
   "outputs": [],
   "source": [
    "lista_numeros=[\"1\",\"2\",\"3\",\"4\",\"5\"]"
   ]
  },
  {
   "cell_type": "code",
   "execution_count": 44,
   "metadata": {},
   "outputs": [
    {
     "data": {
      "text/plain": [
       "['1', '2', '3', '4', '5']"
      ]
     },
     "execution_count": 44,
     "metadata": {},
     "output_type": "execute_result"
    }
   ],
   "source": [
    "lista_numeros"
   ]
  },
  {
   "cell_type": "code",
   "execution_count": 45,
   "metadata": {},
   "outputs": [],
   "source": [
    "def toNumbers(strList):\n",
    "    for x in range (len(strList)):\n",
    "        strList[x]=int(strList[x])\n",
    "    return strList"
   ]
  },
  {
   "cell_type": "code",
   "execution_count": 46,
   "metadata": {},
   "outputs": [
    {
     "data": {
      "text/plain": [
       "[1, 2, 3, 4, 5]"
      ]
     },
     "execution_count": 46,
     "metadata": {},
     "output_type": "execute_result"
    }
   ],
   "source": [
    "toNumbers(lista_numeros)"
   ]
  },
  {
   "cell_type": "code",
   "execution_count": 47,
   "metadata": {},
   "outputs": [
    {
     "data": {
      "text/plain": [
       "[1, 2, 3, 4, 5]"
      ]
     },
     "execution_count": 47,
     "metadata": {},
     "output_type": "execute_result"
    }
   ],
   "source": [
    "lista_numeros"
   ]
  }
 ],
 "metadata": {
  "anaconda-cloud": {},
  "kernelspec": {
   "display_name": "Python 3",
   "language": "python",
   "name": "python3"
  },
  "language_info": {
   "codemirror_mode": {
    "name": "ipython",
    "version": 3
   },
   "file_extension": ".py",
   "mimetype": "text/x-python",
   "name": "python",
   "nbconvert_exporter": "python",
   "pygments_lexer": "ipython3",
   "version": "3.8.5"
  }
 },
 "nbformat": 4,
 "nbformat_minor": 1
}
