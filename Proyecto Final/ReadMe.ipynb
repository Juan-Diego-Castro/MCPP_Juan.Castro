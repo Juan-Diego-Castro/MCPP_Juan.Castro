{
 "cells": [
  {
   "cell_type": "markdown",
   "metadata": {},
   "source": [
    "## Análisis de la política de \"Pico y Género\" y su relación con la evolución de los accidentes de tránsito en Bogotá  "
   ]
  },
  {
   "cell_type": "markdown",
   "metadata": {},
   "source": [
    "#### 29-05-2020\n",
    "#### Juan Diego Castro Rodríguez"
   ]
  },
  {
   "attachments": {},
   "cell_type": "markdown",
   "metadata": {},
   "source": [
    "![Genero.png](https://github.com/Juan-Diego-Castro/MCPP_Juan.Castro/blob/master/Proyecto%20Final/Im%C3%A1genes/Genero.png)"
   ]
  },
  {
   "cell_type": "markdown",
   "metadata": {},
   "source": [
    "## Descripción y Motivación\n",
    "En el contexto de la pandemia producto del Covid-19, los países del mundo se han visto en la obligación de aislar a sus ciudadanos para evitar el aumento de la cadena de contagios.  Distintas estrategias han sido utilizadas hasta la fecha con el fin de evadir las aglomeraciones masivas cambiando así del día a día de las personas.\n",
    "\n",
    "Siendo una conducta natural de hombres y mujeres la movilidad surge la motivación de investigar un apartado específico de este fenómeno: los accidentes de tránsito. Para poder ilustrar las dinámicas de género al interior de los accidentes de tránsito se plantea la pregunta de investigación ¿tiene una política de confinamiento basada en el género un efecto sobre los accidentes de tráfico?\n",
    "\n",
    "A la vez, otras dudas que motivan este estudio son:\n",
    "\n",
    "-¿Cual es el tipo de accidente más común?\n",
    "\n",
    "-¿Qué localidades concentran la mayor cantidad de accidentes?\n",
    "\n",
    "-¿Cómo evolucionan los accidentes ante restricciones de movilidad?\n",
    "\n",
    "-¿Existen momentos del año donde los accidentes tienden a aumentar?\n",
    "\n",
    "-¿Estas tendencias se mantienen en otras ciudades de Colombia?"
   ]
  },
  {
   "cell_type": "markdown",
   "metadata": {},
   "source": [
    "## Objetivo\n",
    "El presenten trabajo se plantea la meta de analizar el efecto que tuvo la política de aislamiento preventido obligatorio \"pico y género\" en los accidentes de tránsito en la ciudad de Bogotá-Colombia. Dicha política pública tuvo una duración de 28 días. Durante el 13 de abril hasta el 10 de mayo del 2020, los residentes de Bogotá solo podían salir durante días impares las mujeres y durante días pares los hombres (las personas transgenero de acuerdo al auto reconocimiento de su identidad de género). Para fines de académicos se tomo a la ciudad de Medellín como punto de comparación.\n"
   ]
  },
  {
   "cell_type": "markdown",
   "metadata": {},
   "source": [
    "## Métodos:\n",
    "1. Extraer y limpiar datos:\n",
    "\n",
    "    *Con las bases de datos abiertos de la Secretaría de Movilidad sobre accidentes de tránsito durante el 2020 para Bogotá http://datos-abiertos-sdm-movilidadbogota.hub.arcgis.com/datasets/b16a3f69814c40ffae63a037b8f0cbf3_0.csv?outSR={%22latestWkid%22:4686,%22wkid%22:4686 y Medellín https://opendata.arcgis.com/datasets/f3e14868231f4bbd825968203de64e48_24.csv \n",
    "    \n",
    "    *Se construyeron funciones auxiliares utilizando las librerias \"os\" y \"requests\" para acceder a dichas bases de datos, descargarlas y guardarlas bajo un nombre dado por el usuario en la carpeta de trabajo\n",
    "    \n",
    "    *Con la ayuda de la librería Pandas se limpiaron los datos referentes a la fecha de ocurrencia de los accidentes\n",
    "    \n",
    "    \n",
    "2. Análisis y gráficos:\n",
    "\n",
    "    *Para desarrollar el análisis se construyeron los periodos de tiempo de interés y se filtraron las bases de datos utilizando el método 'loc' de 'Pandas' y expresiones regulares\n",
    "    \n",
    "    *Con 'Pandas' se crearon Dataframes para ambas bases de datos dependiendo del periodo a analizar\n",
    "    \n",
    "    *Para observar las variaciones por día, se utilizó el método de 'Pandas' 'groupby' y 'agg' para agregar un contador por accidente\n",
    "    \n",
    "    *Con la ayuda de la librería 'Matplotlib' se crearon gráficos de barra y circulares para cada periodo en Bogotá y Medellín según la localidad o comuna donde se dió el accidente (retoman los métodos 'groupby' y 'agg')\n",
    "    \n",
    "    \n",
    "3. Otros prográmas:\n",
    "\n",
    "    *Se construyeron gráficos en Tableau para ilustrar la evolución de los accidentes de tránsito en ambas ciudades, los cuales se pueden encontrar aquí: https://public.tableau.com/views/Picoygnero/Dashboard1?:language=en-US&:display_count=n&:origin=viz_share_link , https://public.tableau.com/app/profile/juan.diego.castro3168/viz/EvolucindeaccidentesenBogot/Hoja1 , https://public.tableau.com/app/profile/juan.diego.castro3168/viz/AccidentesMed/Hoja1\n",
    "    \n",
    "    *Del mismo modo se utilizó el programa QGIS para construir un mapa que ilustre la ubicación de los accidentes resaltando aquellos que presentaron muertos en Bogotá. Para ello se utilizaron los shapes de las UPZ de Bogotá (https://sites.google.com/site/seriescol/shapes) y la Malla Vial Integral de Bogotá (https://www.ideca.gov.co/recursos/mapas/malla-vial-integral-bogota-dc)\n",
    "    \n",
    "\n"
   ]
  },
  {
   "cell_type": "markdown",
   "metadata": {},
   "source": [
    "Jupyter Notebook con el código completo : [Aquí](./Pico_y_género.ipynb)."
   ]
  },
  {
   "cell_type": "markdown",
   "metadata": {},
   "source": [
    "## Hallazgos "
   ]
  },
  {
   "cell_type": "markdown",
   "metadata": {},
   "source": [
    "-El tipo de accidente más común son los choques sin heridos\n",
    "\n",
    "-Para Bogotá los accidentes se concentran principalmente en Kennedy, Engativa y Suba\n",
    "\n",
    "-Para Medellín los accidentes se concentran en La Candelaria, Castilla y Laureles\n",
    "\n",
    "-Existe una tendencia al aumento de los accidentes de tránsito durante el paso del tiempo (marzo-abril-mayo-julio) independiente de la presencia de una política de restricción de movilidad.\n",
    "\n",
    "-Las tendencias de Bogotá varían al compararlas con el comportamiento de los accidentes de tránsito en Medellín"
   ]
  },
  {
   "attachments": {},
   "cell_type": "markdown",
   "metadata": {},
   "source": [
    "![Accidentes_Bogot%C3%A1_tratamiento.png](https://github.com/Juan-Diego-Castro/MCPP_Juan.Castro/blob/master/Proyecto%20Final/Im%C3%A1genes/Accidentes_Bogot%C3%A1_tratamiento.png)"
   ]
  },
  {
   "attachments": {},
   "cell_type": "markdown",
   "metadata": {},
   "source": [
    "![Accidentes_Medell%C3%ADn_tratamiento.png](https://github.com/Juan-Diego-Castro/MCPP_Juan.Castro/blob/master/Proyecto%20Final/Im%C3%A1genes/Accidentes_Medell%C3%ADn_tratamiento.png)"
   ]
  },
  {
   "attachments": {},
   "cell_type": "markdown",
   "metadata": {},
   "source": [
    "![Accidentes_Loc_Bogot%C3%A1_tratamiento.png](https://github.com/Juan-Diego-Castro/MCPP_Juan.Castro/blob/master/Proyecto%20Final/Im%C3%A1genes/Accidentes_Loc_Bogot%C3%A1_tratamiento.png)"
   ]
  },
  {
   "attachments": {},
   "cell_type": "markdown",
   "metadata": {},
   "source": [
    "![Accidentes_Com_Medell%C3%ADn_t_tratamiento.png](https://github.com/Juan-Diego-Castro/MCPP_Juan.Castro/blob/master/Proyecto%20Final/Im%C3%A1genes/Accidentes_Com_Medell%C3%ADn_t_tratamiento.png)"
   ]
  },
  {
   "attachments": {},
   "cell_type": "markdown",
   "metadata": {},
   "source": [
    "![Evoluci%C3%B3n_accidentes_bogot%C3%A1.png](https://github.com/Juan-Diego-Castro/MCPP_Juan.Castro/blob/master/Proyecto%20Final/Im%C3%A1genes/Evoluci%C3%B3n_accidentes_bogot%C3%A1.png)"
   ]
  },
  {
   "attachments": {},
   "cell_type": "markdown",
   "metadata": {},
   "source": [
    "![Evoluci%C3%B3n_accidentes_Medell%C3%ADn.png](https://github.com/Juan-Diego-Castro/MCPP_Juan.Castro/blob/master/Proyecto%20Final/Im%C3%A1genes/Evoluci%C3%B3n_accidentes_Medell%C3%ADn.png)"
   ]
  },
  {
   "attachments": {},
   "cell_type": "markdown",
   "metadata": {},
   "source": [
    "![Mapa%20Accidentes%20con%20convenciones.png](https://github.com/Juan-Diego-Castro/MCPP_Juan.Castro/blob/master/Proyecto%20Final/Im%C3%A1genes/Mapa%20Accidentes%20con%20convenciones.png)"
   ]
  }
 ],
 "metadata": {
  "kernelspec": {
   "display_name": "Python 3",
   "language": "python",
   "name": "python3"
  },
  "language_info": {
   "codemirror_mode": {
    "name": "ipython",
    "version": 3
   },
   "file_extension": ".py",
   "mimetype": "text/x-python",
   "name": "python",
   "nbconvert_exporter": "python",
   "pygments_lexer": "ipython3",
   "version": "3.8.5"
  }
 },
 "nbformat": 4,
 "nbformat_minor": 4
}
