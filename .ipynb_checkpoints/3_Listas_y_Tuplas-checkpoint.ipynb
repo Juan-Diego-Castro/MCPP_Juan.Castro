{
 "cells": [
  {
   "cell_type": "markdown",
   "metadata": {},
   "source": [
    "1. Haga un algoritmo que, utlizando listas, dibuje un rombo sin espacios entre los astericos y que funcione solo con números impares (si el usuario introduce un número par, le indique que debe ser impar y que lo vuelva a intentar)."
   ]
  },
  {
   "cell_type": "code",
   "execution_count": 1,
   "metadata": {
    "scrolled": true
   },
   "outputs": [
    {
     "name": "stdout",
     "output_type": "stream",
     "text": [
      "Digite un número que sea impar: 6\n",
      "Por favor que sea un número impar!!: 7\n",
      "     *\n",
      "    ***\n",
      "   *****\n",
      "  *******\n",
      "   *****\n",
      "    ***\n",
      "     *\n"
     ]
    }
   ],
   "source": []
  },
  {
   "cell_type": "markdown",
   "metadata": {},
   "source": [
    "2. Escriba un programa que permita crear una lista de palabras y que, a continuación, pida una palabra y diga cuántas veces aparece esa palabra en la lista."
   ]
  },
  {
   "cell_type": "code",
   "execution_count": 4,
   "metadata": {},
   "outputs": [
    {
     "name": "stdout",
     "output_type": "stream",
     "text": [
      "Dígame cuántas palabras tiene la lista: 5\n",
      "Dígame la palabra número 1: Avión\n",
      "Dígame la palabra número 2: Carro\n",
      "Dígame la palabra número 3: Tren\n",
      "Dígame la palabra número 4: Tren\n",
      "Dígame la palabra número 5: Barco\n",
      "Su lista de palabras es:  ['Avión', 'Carro', 'Tren', 'Tren', 'Barco']\n",
      "Digame una palabra: Tren\n",
      "La palabra:  Tren aparece 2 veces en su lista\n"
     ]
    }
   ],
   "source": []
  },
  {
   "cell_type": "markdown",
   "metadata": {},
   "source": [
    "3. Escribir un programa que almacene en una lista los siguientes precios, 50, 75, 46, 22, 80, 65, 8, y muestre por pantalla el menor y el mayor de los precios."
   ]
  },
  {
   "cell_type": "code",
   "execution_count": 5,
   "metadata": {},
   "outputs": [
    {
     "name": "stdout",
     "output_type": "stream",
     "text": [
      "El mínimo es 8\n",
      "El máximo es 80\n"
     ]
    }
   ],
   "source": [
    "prices = [50, 75, 46, 22, 80, 65, 8]"
   ]
  },
  {
   "cell_type": "markdown",
   "metadata": {},
   "source": [
    "4. Escribir un programa que pregunte por una muestra de números, separados por comas, los guarde en una lista y muestre por pantalla su media y desviación típica."
   ]
  },
  {
   "cell_type": "code",
   "execution_count": 10,
   "metadata": {},
   "outputs": [
    {
     "name": "stdout",
     "output_type": "stream",
     "text": [
      "Introduce una muestra de números separados por comas: 2,3,4,5\n",
      "La media es 3.5 , y la desviación típica es 1.118033988749895\n"
     ]
    }
   ],
   "source": []
  }
 ],
 "metadata": {
  "kernelspec": {
   "display_name": "Python 3",
   "language": "python",
   "name": "python3"
  },
  "language_info": {
   "codemirror_mode": {
    "name": "ipython",
    "version": 3
   },
   "file_extension": ".py",
   "mimetype": "text/x-python",
   "name": "python",
   "nbconvert_exporter": "python",
   "pygments_lexer": "ipython3",
   "version": "3.8.5"
  }
 },
 "nbformat": 4,
 "nbformat_minor": 2
}
